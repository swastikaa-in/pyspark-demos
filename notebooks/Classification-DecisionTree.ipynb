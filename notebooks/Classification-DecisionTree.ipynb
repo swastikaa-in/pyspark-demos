{
 "cells": [
  {
   "cell_type": "code",
   "execution_count": 1,
   "metadata": {},
   "outputs": [],
   "source": [
    "#Instantiate SparkSession\n",
    "from pyspark.sql import SparkSession\n",
    "spark=SparkSession \\\n",
    "\t\t\t.builder \\\n",
    "\t\t\t.appName('Predicting the grape variety from wine characteristics') \\\n",
    "\t\t\t.getOrCreate()"
   ]
  },
  {
   "cell_type": "code",
   "execution_count": 2,
   "metadata": {},
   "outputs": [
    {
     "data": {
      "text/html": [
       "\n",
       "            <div>\n",
       "                <p><b>SparkSession - hive</b></p>\n",
       "                \n",
       "        <div>\n",
       "            <p><b>SparkContext</b></p>\n",
       "\n",
       "            <p><a href=\"http://sri-cluster-m.us-central1-b.c.jupyter-project-123.internal:4040\">Spark UI</a></p>\n",
       "\n",
       "            <dl>\n",
       "              <dt>Version</dt>\n",
       "                <dd><code>v2.3.3</code></dd>\n",
       "              <dt>Master</dt>\n",
       "                <dd><code>yarn</code></dd>\n",
       "              <dt>AppName</dt>\n",
       "                <dd><code>PySparkShell</code></dd>\n",
       "            </dl>\n",
       "        </div>\n",
       "        \n",
       "            </div>\n",
       "        "
      ],
      "text/plain": [
       "<pyspark.sql.session.SparkSession at 0x7fcd551fd790>"
      ]
     },
     "execution_count": 2,
     "metadata": {},
     "output_type": "execute_result"
    }
   ],
   "source": [
    "spark"
   ]
  },
  {
   "cell_type": "code",
   "execution_count": 3,
   "metadata": {},
   "outputs": [],
   "source": [
    "# https://archive.ics.uci.edu/ml/machine-learning-databases/wine/wine.data\n",
    "# gsutil cp wine.data gs://dexdebra-123/datasets\n",
    "# Use sparkSession to read csv file\t\t\t\n",
    "rawData=spark.read \\\n",
    "\t\t\t\t.format('csv') \\\n",
    "\t\t\t\t.option('header','false') \\\n",
    "\t\t\t\t.load('gs://dexdebra-123/datasets/wine.data')"
   ]
  },
  {
   "cell_type": "code",
   "execution_count": 4,
   "metadata": {},
   "outputs": [
    {
     "data": {
      "text/plain": [
       "DataFrame[_c0: string, _c1: string, _c2: string, _c3: string, _c4: string, _c5: string, _c6: string, _c7: string, _c8: string, _c9: string, _c10: string, _c11: string, _c12: string, _c13: string]"
      ]
     },
     "execution_count": 4,
     "metadata": {},
     "output_type": "execute_result"
    }
   ],
   "source": [
    "rawData"
   ]
  },
  {
   "cell_type": "code",
   "execution_count": 5,
   "metadata": {},
   "outputs": [
    {
     "name": "stdout",
     "output_type": "stream",
     "text": [
      "+---+-----+----+----+----+---+----+----+---+----+----+----+----+----+\n",
      "|_c0|  _c1| _c2| _c3| _c4|_c5| _c6| _c7|_c8| _c9|_c10|_c11|_c12|_c13|\n",
      "+---+-----+----+----+----+---+----+----+---+----+----+----+----+----+\n",
      "|  1|14.23|1.71|2.43|15.6|127| 2.8|3.06|.28|2.29|5.64|1.04|3.92|1065|\n",
      "|  1| 13.2|1.78|2.14|11.2|100|2.65|2.76|.26|1.28|4.38|1.05| 3.4|1050|\n",
      "|  1|13.16|2.36|2.67|18.6|101| 2.8|3.24| .3|2.81|5.68|1.03|3.17|1185|\n",
      "|  1|14.37|1.95| 2.5|16.8|113|3.85|3.49|.24|2.18| 7.8| .86|3.45|1480|\n",
      "|  1|13.24|2.59|2.87|  21|118| 2.8|2.69|.39|1.82|4.32|1.04|2.93| 735|\n",
      "+---+-----+----+----+----+---+----+----+---+----+----+----+----+----+\n",
      "only showing top 5 rows\n",
      "\n"
     ]
    }
   ],
   "source": [
    "rawData.show(5)"
   ]
  },
  {
   "cell_type": "code",
   "execution_count": 6,
   "metadata": {},
   "outputs": [],
   "source": [
    "#Assign meaningful Headers\n",
    "dataSet=rawData.toDF('Label',\n",
    "\t\t\t\t\t\t'Alcohol','MalicAcid','Ash','AshAlkanity','Magnesium','TotalPhenols',\n",
    "\t\t\t\t\t\t'Flavanoids','NonflavanoidPhenols','Proanthocyanins','ColorIntensity',\n",
    "\t\t\t\t\t\t'Hue','OD','Proline'\n",
    "\t\t\t\t\t)\t"
   ]
  },
  {
   "cell_type": "code",
   "execution_count": 7,
   "metadata": {},
   "outputs": [
    {
     "data": {
      "text/plain": [
       "DataFrame[Label: string, Alcohol: string, MalicAcid: string, Ash: string, AshAlkanity: string, Magnesium: string, TotalPhenols: string, Flavanoids: string, NonflavanoidPhenols: string, Proanthocyanins: string, ColorIntensity: string, Hue: string, OD: string, Proline: string]"
      ]
     },
     "execution_count": 7,
     "metadata": {},
     "output_type": "execute_result"
    }
   ],
   "source": [
    "dataSet"
   ]
  },
  {
   "cell_type": "code",
   "execution_count": 9,
   "metadata": {},
   "outputs": [
    {
     "data": {
      "text/html": [
       "<div>\n",
       "<style scoped>\n",
       "    .dataframe tbody tr th:only-of-type {\n",
       "        vertical-align: middle;\n",
       "    }\n",
       "\n",
       "    .dataframe tbody tr th {\n",
       "        vertical-align: top;\n",
       "    }\n",
       "\n",
       "    .dataframe thead th {\n",
       "        text-align: right;\n",
       "    }\n",
       "</style>\n",
       "<table border=\"1\" class=\"dataframe\">\n",
       "  <thead>\n",
       "    <tr style=\"text-align: right;\">\n",
       "      <th></th>\n",
       "      <th>Label</th>\n",
       "      <th>Alcohol</th>\n",
       "      <th>MalicAcid</th>\n",
       "      <th>Ash</th>\n",
       "      <th>AshAlkanity</th>\n",
       "      <th>Magnesium</th>\n",
       "      <th>TotalPhenols</th>\n",
       "      <th>Flavanoids</th>\n",
       "      <th>NonflavanoidPhenols</th>\n",
       "      <th>Proanthocyanins</th>\n",
       "      <th>ColorIntensity</th>\n",
       "      <th>Hue</th>\n",
       "      <th>OD</th>\n",
       "      <th>Proline</th>\n",
       "    </tr>\n",
       "  </thead>\n",
       "  <tbody>\n",
       "    <tr>\n",
       "      <th>0</th>\n",
       "      <td>1</td>\n",
       "      <td>14.23</td>\n",
       "      <td>1.71</td>\n",
       "      <td>2.43</td>\n",
       "      <td>15.6</td>\n",
       "      <td>127</td>\n",
       "      <td>2.8</td>\n",
       "      <td>3.06</td>\n",
       "      <td>.28</td>\n",
       "      <td>2.29</td>\n",
       "      <td>5.64</td>\n",
       "      <td>1.04</td>\n",
       "      <td>3.92</td>\n",
       "      <td>1065</td>\n",
       "    </tr>\n",
       "    <tr>\n",
       "      <th>1</th>\n",
       "      <td>1</td>\n",
       "      <td>13.2</td>\n",
       "      <td>1.78</td>\n",
       "      <td>2.14</td>\n",
       "      <td>11.2</td>\n",
       "      <td>100</td>\n",
       "      <td>2.65</td>\n",
       "      <td>2.76</td>\n",
       "      <td>.26</td>\n",
       "      <td>1.28</td>\n",
       "      <td>4.38</td>\n",
       "      <td>1.05</td>\n",
       "      <td>3.4</td>\n",
       "      <td>1050</td>\n",
       "    </tr>\n",
       "    <tr>\n",
       "      <th>2</th>\n",
       "      <td>1</td>\n",
       "      <td>13.16</td>\n",
       "      <td>2.36</td>\n",
       "      <td>2.67</td>\n",
       "      <td>18.6</td>\n",
       "      <td>101</td>\n",
       "      <td>2.8</td>\n",
       "      <td>3.24</td>\n",
       "      <td>.3</td>\n",
       "      <td>2.81</td>\n",
       "      <td>5.68</td>\n",
       "      <td>1.03</td>\n",
       "      <td>3.17</td>\n",
       "      <td>1185</td>\n",
       "    </tr>\n",
       "    <tr>\n",
       "      <th>3</th>\n",
       "      <td>1</td>\n",
       "      <td>14.37</td>\n",
       "      <td>1.95</td>\n",
       "      <td>2.5</td>\n",
       "      <td>16.8</td>\n",
       "      <td>113</td>\n",
       "      <td>3.85</td>\n",
       "      <td>3.49</td>\n",
       "      <td>.24</td>\n",
       "      <td>2.18</td>\n",
       "      <td>7.8</td>\n",
       "      <td>.86</td>\n",
       "      <td>3.45</td>\n",
       "      <td>1480</td>\n",
       "    </tr>\n",
       "    <tr>\n",
       "      <th>4</th>\n",
       "      <td>1</td>\n",
       "      <td>13.24</td>\n",
       "      <td>2.59</td>\n",
       "      <td>2.87</td>\n",
       "      <td>21</td>\n",
       "      <td>118</td>\n",
       "      <td>2.8</td>\n",
       "      <td>2.69</td>\n",
       "      <td>.39</td>\n",
       "      <td>1.82</td>\n",
       "      <td>4.32</td>\n",
       "      <td>1.04</td>\n",
       "      <td>2.93</td>\n",
       "      <td>735</td>\n",
       "    </tr>\n",
       "  </tbody>\n",
       "</table>\n",
       "</div>"
      ],
      "text/plain": [
       "  Label Alcohol MalicAcid   Ash AshAlkanity Magnesium TotalPhenols Flavanoids  \\\n",
       "0     1   14.23      1.71  2.43        15.6       127          2.8       3.06   \n",
       "1     1    13.2      1.78  2.14        11.2       100         2.65       2.76   \n",
       "2     1   13.16      2.36  2.67        18.6       101          2.8       3.24   \n",
       "3     1   14.37      1.95   2.5        16.8       113         3.85       3.49   \n",
       "4     1   13.24      2.59  2.87          21       118          2.8       2.69   \n",
       "\n",
       "  NonflavanoidPhenols Proanthocyanins ColorIntensity   Hue    OD Proline  \n",
       "0                 .28            2.29           5.64  1.04  3.92    1065  \n",
       "1                 .26            1.28           4.38  1.05   3.4    1050  \n",
       "2                  .3            2.81           5.68  1.03  3.17    1185  \n",
       "3                 .24            2.18            7.8   .86  3.45    1480  \n",
       "4                 .39            1.82           4.32  1.04  2.93     735  "
      ]
     },
     "execution_count": 9,
     "metadata": {},
     "output_type": "execute_result"
    }
   ],
   "source": [
    "dataSet.toPandas().head()"
   ]
  },
  {
   "cell_type": "code",
   "execution_count": 8,
   "metadata": {},
   "outputs": [
    {
     "name": "stdout",
     "output_type": "stream",
     "text": [
      "+-----+--------------------+\n",
      "|label|            features|\n",
      "+-----+--------------------+\n",
      "|    1|[14.23,1.71,2.43,...|\n",
      "|    1|[13.2,1.78,2.14,1...|\n",
      "|    1|[13.16,2.36,2.67,...|\n",
      "|    1|[14.37,1.95,2.5,1...|\n",
      "|    1|[13.24,2.59,2.87,...|\n",
      "+-----+--------------------+\n",
      "only showing top 5 rows\n",
      "\n"
     ]
    }
   ],
   "source": [
    "# Extracts the labels and features from  dataframe and converts features to a densevector\n",
    "from pyspark.ml.linalg import Vectors\n",
    "\n",
    "def vectorize(data):\n",
    "     return data.rdd.map( lambda r: [ r[0], Vectors.dense(r[1:])]).toDF(['label','features'])\n",
    "\n",
    "\n",
    "    \n",
    "vectorizedData = vectorize(dataSet)\n",
    "vectorizedData.show(5)\n",
    "\n",
    "# First Column: label       - Cultivators that produced the wine ( 1,2 and 3)\n",
    "# second Column: features   - Wine features- All features are lumped together into a single column 'feature'\n",
    "\n",
    "# Each Row in the Spark DataFrame is a Row Object with label and features"
   ]
  },
  {
   "cell_type": "code",
   "execution_count": 9,
   "metadata": {},
   "outputs": [],
   "source": [
    "# The labels in the DataFrame event tho' have values as 1,2 and 3 is in String form\n",
    "# Convert those to numeric form\n",
    "# Convert Number  Values in String Format to numeric using StringIndexer\n",
    "\n",
    "from pyspark.ml.feature import StringIndexer\n",
    "\n",
    "labelIndexer=StringIndexer( inputCol='label',outputCol='indexedLabel' )\n"
   ]
  },
  {
   "cell_type": "code",
   "execution_count": 10,
   "metadata": {},
   "outputs": [
    {
     "data": {
      "text/plain": [
       "StringIndexer_420fb6e9f2b6f655ec33"
      ]
     },
     "execution_count": 10,
     "metadata": {},
     "output_type": "execute_result"
    }
   ],
   "source": [
    "labelIndexer"
   ]
  },
  {
   "cell_type": "code",
   "execution_count": 11,
   "metadata": {},
   "outputs": [
    {
     "data": {
      "text/plain": [
       "[Row(label=u'1', features=DenseVector([14.23, 1.71, 2.43, 15.6, 127.0, 2.8, 3.06, 0.28, 2.29, 5.64, 1.04, 3.92, 1065.0]), indexedLabel=1.0),\n",
       " Row(label=u'1', features=DenseVector([13.2, 1.78, 2.14, 11.2, 100.0, 2.65, 2.76, 0.26, 1.28, 4.38, 1.05, 3.4, 1050.0]), indexedLabel=1.0)]"
      ]
     },
     "execution_count": 11,
     "metadata": {},
     "output_type": "execute_result"
    }
   ],
   "source": [
    "# Fit method on the labelIndexer will generate the corresponding float value for numeric data in String format and \n",
    "# apply these float point values to vectorized data , using transform method \n",
    "\n",
    "indexedData=labelIndexer.fit(vectorizedData).transform(vectorizedData)\n",
    "indexedData.take(2)"
   ]
  },
  {
   "cell_type": "code",
   "execution_count": 12,
   "metadata": {},
   "outputs": [
    {
     "data": {
      "text/plain": [
       "DataFrame[label: string, features: vector, indexedLabel: double]"
      ]
     },
     "execution_count": 12,
     "metadata": {},
     "output_type": "execute_result"
    }
   ],
   "source": [
    "# Display Structure of indexedData\n",
    "indexedData"
   ]
  },
  {
   "cell_type": "code",
   "execution_count": 14,
   "metadata": {},
   "outputs": [
    {
     "name": "stdout",
     "output_type": "stream",
     "text": [
      "+-----+\n",
      "|label|\n",
      "+-----+\n",
      "|    3|\n",
      "|    1|\n",
      "|    2|\n",
      "+-----+\n",
      "\n",
      "+------------+\n",
      "|indexedLabel|\n",
      "+------------+\n",
      "|         0.0|\n",
      "|         1.0|\n",
      "|         2.0|\n",
      "+------------+\n",
      "\n"
     ]
    }
   ],
   "source": [
    "# Display unique values for 'label' and 'indexedLabel' columns\n",
    "indexedData.select('label').distinct().show()\n",
    "indexedData.select('indexedLabel').distinct().show()"
   ]
  },
  {
   "cell_type": "code",
   "execution_count": 15,
   "metadata": {},
   "outputs": [],
   "source": [
    "# split data set into training and test data set 80:20 ratio\n",
    "(trainingData,testData)=indexedData.randomSplit([0.8,0.2])"
   ]
  },
  {
   "cell_type": "code",
   "execution_count": 17,
   "metadata": {},
   "outputs": [
    {
     "data": {
      "text/plain": [
       "DataFrame[label: string, features: vector, indexedLabel: double]"
      ]
     },
     "execution_count": 17,
     "metadata": {},
     "output_type": "execute_result"
    }
   ],
   "source": [
    "trainingData"
   ]
  },
  {
   "cell_type": "code",
   "execution_count": 16,
   "metadata": {},
   "outputs": [
    {
     "data": {
      "text/plain": [
       "DataFrame[label: string, features: vector, indexedLabel: double]"
      ]
     },
     "execution_count": 16,
     "metadata": {},
     "output_type": "execute_result"
    }
   ],
   "source": [
    "testData"
   ]
  },
  {
   "cell_type": "code",
   "execution_count": 17,
   "metadata": {},
   "outputs": [
    {
     "data": {
      "text/plain": [
       "142"
      ]
     },
     "execution_count": 17,
     "metadata": {},
     "output_type": "execute_result"
    }
   ],
   "source": [
    "trainingData.count()"
   ]
  },
  {
   "cell_type": "code",
   "execution_count": 18,
   "metadata": {},
   "outputs": [
    {
     "data": {
      "text/plain": [
       "36"
      ]
     },
     "execution_count": 18,
     "metadata": {},
     "output_type": "execute_result"
    }
   ],
   "source": [
    "testData.count()"
   ]
  },
  {
   "cell_type": "code",
   "execution_count": 19,
   "metadata": {},
   "outputs": [
    {
     "data": {
      "text/html": [
       "<div>\n",
       "<style scoped>\n",
       "    .dataframe tbody tr th:only-of-type {\n",
       "        vertical-align: middle;\n",
       "    }\n",
       "\n",
       "    .dataframe tbody tr th {\n",
       "        vertical-align: top;\n",
       "    }\n",
       "\n",
       "    .dataframe thead th {\n",
       "        text-align: right;\n",
       "    }\n",
       "</style>\n",
       "<table border=\"1\" class=\"dataframe\">\n",
       "  <thead>\n",
       "    <tr style=\"text-align: right;\">\n",
       "      <th></th>\n",
       "      <th>label</th>\n",
       "      <th>features</th>\n",
       "      <th>indexedLabel</th>\n",
       "    </tr>\n",
       "  </thead>\n",
       "  <tbody>\n",
       "    <tr>\n",
       "      <th>0</th>\n",
       "      <td>1</td>\n",
       "      <td>[12.93, 3.8, 2.65, 18.6, 102.0, 2.41, 2.41, 0....</td>\n",
       "      <td>1.0</td>\n",
       "    </tr>\n",
       "    <tr>\n",
       "      <th>1</th>\n",
       "      <td>1</td>\n",
       "      <td>[13.05, 1.65, 2.55, 18.0, 98.0, 2.45, 2.43, 0....</td>\n",
       "      <td>1.0</td>\n",
       "    </tr>\n",
       "    <tr>\n",
       "      <th>2</th>\n",
       "      <td>1</td>\n",
       "      <td>[13.07, 1.5, 2.1, 15.5, 98.0, 2.4, 2.64, 0.28,...</td>\n",
       "      <td>1.0</td>\n",
       "    </tr>\n",
       "    <tr>\n",
       "      <th>3</th>\n",
       "      <td>1</td>\n",
       "      <td>[13.16, 2.36, 2.67, 18.6, 101.0, 2.8, 3.24, 0....</td>\n",
       "      <td>1.0</td>\n",
       "    </tr>\n",
       "    <tr>\n",
       "      <th>4</th>\n",
       "      <td>1</td>\n",
       "      <td>[13.2, 1.78, 2.14, 11.2, 100.0, 2.65, 2.76, 0....</td>\n",
       "      <td>1.0</td>\n",
       "    </tr>\n",
       "  </tbody>\n",
       "</table>\n",
       "</div>"
      ],
      "text/plain": [
       "  label                                           features  indexedLabel\n",
       "0     1  [12.93, 3.8, 2.65, 18.6, 102.0, 2.41, 2.41, 0....           1.0\n",
       "1     1  [13.05, 1.65, 2.55, 18.0, 98.0, 2.45, 2.43, 0....           1.0\n",
       "2     1  [13.07, 1.5, 2.1, 15.5, 98.0, 2.4, 2.64, 0.28,...           1.0\n",
       "3     1  [13.16, 2.36, 2.67, 18.6, 101.0, 2.8, 3.24, 0....           1.0\n",
       "4     1  [13.2, 1.78, 2.14, 11.2, 100.0, 2.65, 2.76, 0....           1.0"
      ]
     },
     "execution_count": 19,
     "metadata": {},
     "output_type": "execute_result"
    }
   ],
   "source": [
    "trainingData.toPandas().head()"
   ]
  },
  {
   "cell_type": "code",
   "execution_count": 22,
   "metadata": {},
   "outputs": [
    {
     "data": {
      "text/html": [
       "<div>\n",
       "<style scoped>\n",
       "    .dataframe tbody tr th:only-of-type {\n",
       "        vertical-align: middle;\n",
       "    }\n",
       "\n",
       "    .dataframe tbody tr th {\n",
       "        vertical-align: top;\n",
       "    }\n",
       "\n",
       "    .dataframe thead th {\n",
       "        text-align: right;\n",
       "    }\n",
       "</style>\n",
       "<table border=\"1\" class=\"dataframe\">\n",
       "  <thead>\n",
       "    <tr style=\"text-align: right;\">\n",
       "      <th></th>\n",
       "      <th>label</th>\n",
       "      <th>features</th>\n",
       "      <th>indexedLabel</th>\n",
       "    </tr>\n",
       "  </thead>\n",
       "  <tbody>\n",
       "    <tr>\n",
       "      <th>0</th>\n",
       "      <td>1</td>\n",
       "      <td>[12.93, 3.8, 2.65, 18.6, 102.0, 2.41, 2.41, 0....</td>\n",
       "      <td>1.0</td>\n",
       "    </tr>\n",
       "    <tr>\n",
       "      <th>1</th>\n",
       "      <td>1</td>\n",
       "      <td>[13.05, 1.73, 2.04, 12.4, 92.0, 2.72, 3.27, 0....</td>\n",
       "      <td>1.0</td>\n",
       "    </tr>\n",
       "    <tr>\n",
       "      <th>2</th>\n",
       "      <td>1</td>\n",
       "      <td>[13.05, 2.05, 3.22, 25.0, 124.0, 2.63, 2.68, 0...</td>\n",
       "      <td>1.0</td>\n",
       "    </tr>\n",
       "    <tr>\n",
       "      <th>3</th>\n",
       "      <td>1</td>\n",
       "      <td>[13.24, 3.98, 2.29, 17.5, 103.0, 2.64, 2.63, 0...</td>\n",
       "      <td>1.0</td>\n",
       "    </tr>\n",
       "    <tr>\n",
       "      <th>4</th>\n",
       "      <td>1</td>\n",
       "      <td>[13.64, 3.1, 2.56, 15.2, 116.0, 2.7, 3.03, 0.1...</td>\n",
       "      <td>1.0</td>\n",
       "    </tr>\n",
       "  </tbody>\n",
       "</table>\n",
       "</div>"
      ],
      "text/plain": [
       "  label                                           features  indexedLabel\n",
       "0     1  [12.93, 3.8, 2.65, 18.6, 102.0, 2.41, 2.41, 0....           1.0\n",
       "1     1  [13.05, 1.73, 2.04, 12.4, 92.0, 2.72, 3.27, 0....           1.0\n",
       "2     1  [13.05, 2.05, 3.22, 25.0, 124.0, 2.63, 2.68, 0...           1.0\n",
       "3     1  [13.24, 3.98, 2.29, 17.5, 103.0, 2.64, 2.63, 0...           1.0\n",
       "4     1  [13.64, 3.1, 2.56, 15.2, 116.0, 2.7, 3.03, 0.1...           1.0"
      ]
     },
     "execution_count": 22,
     "metadata": {},
     "output_type": "execute_result"
    }
   ],
   "source": [
    "testData.toPandas().head()"
   ]
  },
  {
   "cell_type": "code",
   "execution_count": 20,
   "metadata": {},
   "outputs": [],
   "source": [
    "# Instantiate DecisionTreeClassifier\n",
    "from pyspark.ml.classification  import DecisionTreeClassifier\n",
    "\n",
    "# DecisionTreeClassifier is an Estimator object which fits on the training data to produce DecisionTree ML model\n",
    "# indexedLabel is the column  which contains numerical values\n",
    "# featuresCol is the one with features (all features lumped into a single column)\n",
    "\n",
    "dtree=DecisionTreeClassifier(\n",
    "\t\tlabelCol='indexedLabel',\n",
    "\t\tfeaturesCol='features', # contains all features lumped into single column\n",
    "\t\tmaxDepth=3,\n",
    "\t\timpurity='gini'\n",
    "\t\t)"
   ]
  },
  {
   "cell_type": "code",
   "execution_count": 21,
   "metadata": {},
   "outputs": [],
   "source": [
    "dtree\n",
    "model=dtree.fit(trainingData)"
   ]
  },
  {
   "cell_type": "code",
   "execution_count": 22,
   "metadata": {},
   "outputs": [],
   "source": [
    "# Evaluate how well the model performs\n",
    "from pyspark.ml.evaluation import MulticlassClassificationEvaluator\n",
    "\t\n",
    "evaluator=MulticlassClassificationEvaluator(\n",
    "\t\t\t\t\t\t\t\t\t\t\t\tlabelCol='indexedLabel', # column which represents actual labels\n",
    "\t\t\t\t\t\t\t\t\t\t\t\tpredictionCol='prediction', # columns which represent predictions\n",
    "\t\t\t\t\t\t\t\t\t\t\t\tmetricName='f1' # harmonic mean of precision and recall\n",
    ")"
   ]
  },
  {
   "cell_type": "code",
   "execution_count": 24,
   "metadata": {},
   "outputs": [
    {
     "data": {
      "text/plain": [
       "MulticlassClassificationEvaluator_4821b378f4be1219c271"
      ]
     },
     "execution_count": 24,
     "metadata": {},
     "output_type": "execute_result"
    }
   ],
   "source": [
    "evaluator"
   ]
  },
  {
   "cell_type": "code",
   "execution_count": 25,
   "metadata": {},
   "outputs": [
    {
     "name": "stdout",
     "output_type": "stream",
     "text": [
      "+-----+--------------------+------------+--------------+--------------------+----------+\n",
      "|label|            features|indexedLabel| rawPrediction|         probability|prediction|\n",
      "+-----+--------------------+------------+--------------+--------------------+----------+\n",
      "|    1|[12.85,1.6,2.52,1...|         1.0| [1.0,0.0,0.0]|       [1.0,0.0,0.0]|       0.0|\n",
      "|    1|[13.05,1.73,2.04,...|         1.0|[0.0,40.0,0.0]|       [0.0,1.0,0.0]|       1.0|\n",
      "|    1|[13.05,1.77,2.1,1...|         1.0|[0.0,40.0,0.0]|       [0.0,1.0,0.0]|       1.0|\n",
      "|    1|[13.05,2.05,3.22,...|         1.0|[52.0,1.0,0.0]|[0.98113207547169...|       0.0|\n",
      "|    1|[13.24,3.98,2.29,...|         1.0|[0.0,40.0,0.0]|       [0.0,1.0,0.0]|       1.0|\n",
      "+-----+--------------------+------------+--------------+--------------------+----------+\n",
      "only showing top 5 rows\n",
      "\n"
     ]
    }
   ],
   "source": [
    "# Since ML Model is a transformer, we can call transform on test data\n",
    "# This is what we will use for predictions\n",
    "\n",
    "transformed_data=model.transform(testData)\n",
    "transformed_data.show(5)"
   ]
  },
  {
   "cell_type": "code",
   "execution_count": 26,
   "metadata": {},
   "outputs": [
    {
     "name": "stdout",
     "output_type": "stream",
     "text": [
      "('f1', 'accuracy:', 0.8888888888888888)\n"
     ]
    }
   ],
   "source": [
    "# 3 Columns are added to the dataframe as below.\n",
    "# 1.rawPrediction - \n",
    "# 2.probablity - Probablity of Individual Predictions\n",
    "# 3.prediction - Final Predicted Label \n",
    "\n",
    "# The values in the last \"prediction\" column is the final predicted result.\n",
    "\n",
    "# We will compare 'prediction' column to actual label in 'indexedLabel' column\n",
    "\n",
    "\n",
    "# We will use MulticlassClassificationEvaluator to evaluate on testData\n",
    "print(evaluator.getMetricName(),'accuracy:',evaluator.evaluate(transformed_data))"
   ]
  },
  {
   "cell_type": "code",
   "execution_count": null,
   "metadata": {},
   "outputs": [],
   "source": []
  }
 ],
 "metadata": {
  "kernelspec": {
   "display_name": "PySpark",
   "language": "python",
   "name": "pyspark"
  },
  "language_info": {
   "codemirror_mode": {
    "name": "ipython",
    "version": 2
   },
   "file_extension": ".py",
   "mimetype": "text/x-python",
   "name": "python",
   "nbconvert_exporter": "python",
   "pygments_lexer": "ipython2",
   "version": "2.7.14"
  }
 },
 "nbformat": 4,
 "nbformat_minor": 2
}