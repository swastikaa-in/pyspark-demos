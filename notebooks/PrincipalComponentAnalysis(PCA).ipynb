{
 "cells": [
  {
   "cell_type": "code",
   "execution_count": 1,
   "metadata": {},
   "outputs": [],
   "source": [
    "#Instantiate SparkSession\n",
    "from pyspark.sql import SparkSession\n",
    "spark=SparkSession \\\n",
    ".builder \\\n",
    ".appName('Effects of Dimensionality Reduction when making predictions') \\\n",
    ".getOrCreate()"
   ]
  },
  {
   "cell_type": "code",
   "execution_count": 2,
   "metadata": {},
   "outputs": [],
   "source": [
    "# wget https://archive.ics.uci.edu/ml/machine-learning-databases/00275/Bike-Sharing-Dataset.zip\n",
    "# gsutil cp day.csv gs://dexdebra-123/datasets\n",
    "# Use sparkSession to read csv file\n",
    "\n",
    "rawdata=spark.read \\\n",
    "           .format('csv') \\\n",
    "           .option('header','true') \\\n",
    "           .load('gs://dexdebra-123/datasets/day.csv')"
   ]
  },
  {
   "cell_type": "code",
   "execution_count": 6,
   "metadata": {},
   "outputs": [
    {
     "data": {
      "text/html": [
       "<div>\n",
       "<style scoped>\n",
       "    .dataframe tbody tr th:only-of-type {\n",
       "        vertical-align: middle;\n",
       "    }\n",
       "\n",
       "    .dataframe tbody tr th {\n",
       "        vertical-align: top;\n",
       "    }\n",
       "\n",
       "    .dataframe thead th {\n",
       "        text-align: right;\n",
       "    }\n",
       "</style>\n",
       "<table border=\"1\" class=\"dataframe\">\n",
       "  <thead>\n",
       "    <tr style=\"text-align: right;\">\n",
       "      <th></th>\n",
       "      <th>instant</th>\n",
       "      <th>dteday</th>\n",
       "      <th>season</th>\n",
       "      <th>yr</th>\n",
       "      <th>mnth</th>\n",
       "      <th>holiday</th>\n",
       "      <th>weekday</th>\n",
       "      <th>workingday</th>\n",
       "      <th>weathersit</th>\n",
       "      <th>temp</th>\n",
       "      <th>atemp</th>\n",
       "      <th>hum</th>\n",
       "      <th>windspeed</th>\n",
       "      <th>casual</th>\n",
       "      <th>registered</th>\n",
       "      <th>cnt</th>\n",
       "    </tr>\n",
       "  </thead>\n",
       "  <tbody>\n",
       "    <tr>\n",
       "      <th>0</th>\n",
       "      <td>1</td>\n",
       "      <td>2011-01-01</td>\n",
       "      <td>1</td>\n",
       "      <td>0</td>\n",
       "      <td>1</td>\n",
       "      <td>0</td>\n",
       "      <td>6</td>\n",
       "      <td>0</td>\n",
       "      <td>2</td>\n",
       "      <td>0.344167</td>\n",
       "      <td>0.363625</td>\n",
       "      <td>0.805833</td>\n",
       "      <td>0.160446</td>\n",
       "      <td>331</td>\n",
       "      <td>654</td>\n",
       "      <td>985</td>\n",
       "    </tr>\n",
       "    <tr>\n",
       "      <th>1</th>\n",
       "      <td>2</td>\n",
       "      <td>2011-01-02</td>\n",
       "      <td>1</td>\n",
       "      <td>0</td>\n",
       "      <td>1</td>\n",
       "      <td>0</td>\n",
       "      <td>0</td>\n",
       "      <td>0</td>\n",
       "      <td>2</td>\n",
       "      <td>0.363478</td>\n",
       "      <td>0.353739</td>\n",
       "      <td>0.696087</td>\n",
       "      <td>0.248539</td>\n",
       "      <td>131</td>\n",
       "      <td>670</td>\n",
       "      <td>801</td>\n",
       "    </tr>\n",
       "    <tr>\n",
       "      <th>2</th>\n",
       "      <td>3</td>\n",
       "      <td>2011-01-03</td>\n",
       "      <td>1</td>\n",
       "      <td>0</td>\n",
       "      <td>1</td>\n",
       "      <td>0</td>\n",
       "      <td>1</td>\n",
       "      <td>1</td>\n",
       "      <td>1</td>\n",
       "      <td>0.196364</td>\n",
       "      <td>0.189405</td>\n",
       "      <td>0.437273</td>\n",
       "      <td>0.248309</td>\n",
       "      <td>120</td>\n",
       "      <td>1229</td>\n",
       "      <td>1349</td>\n",
       "    </tr>\n",
       "    <tr>\n",
       "      <th>3</th>\n",
       "      <td>4</td>\n",
       "      <td>2011-01-04</td>\n",
       "      <td>1</td>\n",
       "      <td>0</td>\n",
       "      <td>1</td>\n",
       "      <td>0</td>\n",
       "      <td>2</td>\n",
       "      <td>1</td>\n",
       "      <td>1</td>\n",
       "      <td>0.2</td>\n",
       "      <td>0.212122</td>\n",
       "      <td>0.590435</td>\n",
       "      <td>0.160296</td>\n",
       "      <td>108</td>\n",
       "      <td>1454</td>\n",
       "      <td>1562</td>\n",
       "    </tr>\n",
       "    <tr>\n",
       "      <th>4</th>\n",
       "      <td>5</td>\n",
       "      <td>2011-01-05</td>\n",
       "      <td>1</td>\n",
       "      <td>0</td>\n",
       "      <td>1</td>\n",
       "      <td>0</td>\n",
       "      <td>3</td>\n",
       "      <td>1</td>\n",
       "      <td>1</td>\n",
       "      <td>0.226957</td>\n",
       "      <td>0.22927</td>\n",
       "      <td>0.436957</td>\n",
       "      <td>0.1869</td>\n",
       "      <td>82</td>\n",
       "      <td>1518</td>\n",
       "      <td>1600</td>\n",
       "    </tr>\n",
       "  </tbody>\n",
       "</table>\n",
       "</div>"
      ],
      "text/plain": [
       "  instant      dteday season yr mnth holiday weekday workingday weathersit  \\\n",
       "0       1  2011-01-01      1  0    1       0       6          0          2   \n",
       "1       2  2011-01-02      1  0    1       0       0          0          2   \n",
       "2       3  2011-01-03      1  0    1       0       1          1          1   \n",
       "3       4  2011-01-04      1  0    1       0       2          1          1   \n",
       "4       5  2011-01-05      1  0    1       0       3          1          1   \n",
       "\n",
       "       temp     atemp       hum windspeed casual registered   cnt  \n",
       "0  0.344167  0.363625  0.805833  0.160446    331        654   985  \n",
       "1  0.363478  0.353739  0.696087  0.248539    131        670   801  \n",
       "2  0.196364  0.189405  0.437273  0.248309    120       1229  1349  \n",
       "3       0.2  0.212122  0.590435  0.160296    108       1454  1562  \n",
       "4  0.226957   0.22927  0.436957    0.1869     82       1518  1600  "
      ]
     },
     "execution_count": 6,
     "metadata": {},
     "output_type": "execute_result"
    }
   ],
   "source": [
    "rawdata.toPandas().head()\n",
    "\n",
    "# casual|registered|cnt\n",
    "# used to predict the number of bike rentals based on weather and season information\n"
   ]
  },
  {
   "cell_type": "code",
   "execution_count": 7,
   "metadata": {},
   "outputs": [],
   "source": [
    "# Setup Dataframe with only the columns we are interested\n",
    "\n",
    "from pyspark.sql.functions import col\n",
    "\n",
    "dataset=rawdata.select(\n",
    "                    col('season').cast('float'),\n",
    "                    col('yr').cast('float'),\n",
    "                    col('mnth').cast('float'),\n",
    "                    col('holiday').cast('float'),\n",
    "                    col('weekday').cast('float'),\n",
    "                    col('workingday').cast('float'),\n",
    "                    col('weathersit').cast('float'),\n",
    "                    col('temp').cast('float'),\n",
    "                    col('atemp').cast('float'),\n",
    "                    col('hum').cast('float'),\n",
    "                    col('windspeed').cast('float'),\n",
    "                    col('cnt').cast('float')\n",
    ")\n",
    "\n",
    "# We left cols which had a count of casual and registered\n",
    "# we are only interested in total count of bike rentals"
   ]
  },
  {
   "cell_type": "code",
   "execution_count": 8,
   "metadata": {},
   "outputs": [
    {
     "data": {
      "text/html": [
       "<div>\n",
       "<style scoped>\n",
       "    .dataframe tbody tr th:only-of-type {\n",
       "        vertical-align: middle;\n",
       "    }\n",
       "\n",
       "    .dataframe tbody tr th {\n",
       "        vertical-align: top;\n",
       "    }\n",
       "\n",
       "    .dataframe thead th {\n",
       "        text-align: right;\n",
       "    }\n",
       "</style>\n",
       "<table border=\"1\" class=\"dataframe\">\n",
       "  <thead>\n",
       "    <tr style=\"text-align: right;\">\n",
       "      <th></th>\n",
       "      <th>season</th>\n",
       "      <th>yr</th>\n",
       "      <th>mnth</th>\n",
       "      <th>holiday</th>\n",
       "      <th>weekday</th>\n",
       "      <th>workingday</th>\n",
       "      <th>weathersit</th>\n",
       "      <th>temp</th>\n",
       "      <th>atemp</th>\n",
       "      <th>hum</th>\n",
       "      <th>windspeed</th>\n",
       "      <th>cnt</th>\n",
       "    </tr>\n",
       "  </thead>\n",
       "  <tbody>\n",
       "    <tr>\n",
       "      <th>0</th>\n",
       "      <td>1.0</td>\n",
       "      <td>0.0</td>\n",
       "      <td>1.0</td>\n",
       "      <td>0.0</td>\n",
       "      <td>6.0</td>\n",
       "      <td>0.0</td>\n",
       "      <td>2.0</td>\n",
       "      <td>0.344167</td>\n",
       "      <td>0.363625</td>\n",
       "      <td>0.805833</td>\n",
       "      <td>0.160446</td>\n",
       "      <td>985.0</td>\n",
       "    </tr>\n",
       "    <tr>\n",
       "      <th>1</th>\n",
       "      <td>1.0</td>\n",
       "      <td>0.0</td>\n",
       "      <td>1.0</td>\n",
       "      <td>0.0</td>\n",
       "      <td>0.0</td>\n",
       "      <td>0.0</td>\n",
       "      <td>2.0</td>\n",
       "      <td>0.363478</td>\n",
       "      <td>0.353739</td>\n",
       "      <td>0.696087</td>\n",
       "      <td>0.248539</td>\n",
       "      <td>801.0</td>\n",
       "    </tr>\n",
       "    <tr>\n",
       "      <th>2</th>\n",
       "      <td>1.0</td>\n",
       "      <td>0.0</td>\n",
       "      <td>1.0</td>\n",
       "      <td>0.0</td>\n",
       "      <td>1.0</td>\n",
       "      <td>1.0</td>\n",
       "      <td>1.0</td>\n",
       "      <td>0.196364</td>\n",
       "      <td>0.189405</td>\n",
       "      <td>0.437273</td>\n",
       "      <td>0.248309</td>\n",
       "      <td>1349.0</td>\n",
       "    </tr>\n",
       "    <tr>\n",
       "      <th>3</th>\n",
       "      <td>1.0</td>\n",
       "      <td>0.0</td>\n",
       "      <td>1.0</td>\n",
       "      <td>0.0</td>\n",
       "      <td>2.0</td>\n",
       "      <td>1.0</td>\n",
       "      <td>1.0</td>\n",
       "      <td>0.200000</td>\n",
       "      <td>0.212122</td>\n",
       "      <td>0.590435</td>\n",
       "      <td>0.160296</td>\n",
       "      <td>1562.0</td>\n",
       "    </tr>\n",
       "    <tr>\n",
       "      <th>4</th>\n",
       "      <td>1.0</td>\n",
       "      <td>0.0</td>\n",
       "      <td>1.0</td>\n",
       "      <td>0.0</td>\n",
       "      <td>3.0</td>\n",
       "      <td>1.0</td>\n",
       "      <td>1.0</td>\n",
       "      <td>0.226957</td>\n",
       "      <td>0.229270</td>\n",
       "      <td>0.436957</td>\n",
       "      <td>0.186900</td>\n",
       "      <td>1600.0</td>\n",
       "    </tr>\n",
       "  </tbody>\n",
       "</table>\n",
       "</div>"
      ],
      "text/plain": [
       "   season   yr  mnth  holiday  weekday  workingday  weathersit      temp  \\\n",
       "0     1.0  0.0   1.0      0.0      6.0         0.0         2.0  0.344167   \n",
       "1     1.0  0.0   1.0      0.0      0.0         0.0         2.0  0.363478   \n",
       "2     1.0  0.0   1.0      0.0      1.0         1.0         1.0  0.196364   \n",
       "3     1.0  0.0   1.0      0.0      2.0         1.0         1.0  0.200000   \n",
       "4     1.0  0.0   1.0      0.0      3.0         1.0         1.0  0.226957   \n",
       "\n",
       "      atemp       hum  windspeed     cnt  \n",
       "0  0.363625  0.805833   0.160446   985.0  \n",
       "1  0.353739  0.696087   0.248539   801.0  \n",
       "2  0.189405  0.437273   0.248309  1349.0  \n",
       "3  0.212122  0.590435   0.160296  1562.0  \n",
       "4  0.229270  0.436957   0.186900  1600.0  "
      ]
     },
     "execution_count": 8,
     "metadata": {},
     "output_type": "execute_result"
    }
   ],
   "source": [
    "dataset.toPandas().head()"
   ]
  },
  {
   "cell_type": "code",
   "execution_count": 100,
   "metadata": {},
   "outputs": [
    {
     "data": {
      "image/png": "[encoded data removed]",
      "text/plain": [
       "<matplotlib.figure.Figure at 0x7f17e6c96fd0>"
      ]
     },
     "metadata": {},
     "output_type": "display_data"
    }
   ],
   "source": [
    "# The values in two or more columns may by highly correlated with one another\n",
    "# In such situations we  want to use only one of the two columns\n",
    "# In order to see correlations between columns we can use heatmap feature in seaborn visualizing ibrary\n",
    "# Generally, ML algorithms will not work well, when there are huge number of columns with correlated data\n",
    "# Ideally, data should be un-correlated\n",
    "# That is , whey PCA is so useful.\n",
    "\n",
    "import matplotlib.pyplot as plt\n",
    "import seaborn as sns\n",
    "\n",
    "corrmat=dataset.toPandas().corr()\n",
    "plt.figure(figsize=(7,7))\n",
    "sns.set(font_scale=1.0)\n",
    "sns.heatmap(corrmat,vmax=8,square=True,annot=True,fmt='.2f',cmap=\"winter\")\n",
    "plt.show()\n",
    "\n",
    "#Season and Month are correlated\n",
    "#temp and atemp are correlated\n",
    "#weathersit and hum are highly correlated\n",
    "\n"
   ]
  },
  {
   "cell_type": "code",
   "execution_count": 12,
   "metadata": {
    "scrolled": true
   },
   "outputs": [
    {
     "data": {
      "text/plain": [
       "['season',\n",
       " 'yr',\n",
       " 'mnth',\n",
       " 'holiday',\n",
       " 'weekday',\n",
       " 'workingday',\n",
       " 'weathersit',\n",
       " 'temp',\n",
       " 'atemp',\n",
       " 'hum',\n",
       " 'windspeed']"
      ]
     },
     "execution_count": 12,
     "metadata": {},
     "output_type": "execute_result"
    }
   ],
   "source": [
    "featuresCols = dataset.columns\n",
    "featuresCols.remove('cnt')\n",
    "featuresCols\n"
   ]
  },
  {
   "cell_type": "code",
   "execution_count": 13,
   "metadata": {},
   "outputs": [],
   "source": [
    "# Use VectorAssembler to pull all the features into a single column\n",
    "from pyspark.ml.feature import VectorAssembler\n",
    "\n",
    "assembler=VectorAssembler(\n",
    "        inputCols=featuresCols, outputCol='features'\n",
    ")"
   ]
  },
  {
   "cell_type": "code",
   "execution_count": 14,
   "metadata": {},
   "outputs": [
    {
     "data": {
      "text/html": [
       "<div>\n",
       "<style scoped>\n",
       "    .dataframe tbody tr th:only-of-type {\n",
       "        vertical-align: middle;\n",
       "    }\n",
       "\n",
       "    .dataframe tbody tr th {\n",
       "        vertical-align: top;\n",
       "    }\n",
       "\n",
       "    .dataframe thead th {\n",
       "        text-align: right;\n",
       "    }\n",
       "</style>\n",
       "<table border=\"1\" class=\"dataframe\">\n",
       "  <thead>\n",
       "    <tr style=\"text-align: right;\">\n",
       "      <th></th>\n",
       "      <th>season</th>\n",
       "      <th>yr</th>\n",
       "      <th>mnth</th>\n",
       "      <th>holiday</th>\n",
       "      <th>weekday</th>\n",
       "      <th>workingday</th>\n",
       "      <th>weathersit</th>\n",
       "      <th>temp</th>\n",
       "      <th>atemp</th>\n",
       "      <th>hum</th>\n",
       "      <th>windspeed</th>\n",
       "      <th>cnt</th>\n",
       "      <th>features</th>\n",
       "    </tr>\n",
       "  </thead>\n",
       "  <tbody>\n",
       "    <tr>\n",
       "      <th>0</th>\n",
       "      <td>1.0</td>\n",
       "      <td>0.0</td>\n",
       "      <td>1.0</td>\n",
       "      <td>0.0</td>\n",
       "      <td>6.0</td>\n",
       "      <td>0.0</td>\n",
       "      <td>2.0</td>\n",
       "      <td>0.344167</td>\n",
       "      <td>0.363625</td>\n",
       "      <td>0.805833</td>\n",
       "      <td>0.160446</td>\n",
       "      <td>985.0</td>\n",
       "      <td>[1.0, 0.0, 1.0, 0.0, 6.0, 0.0, 2.0, 0.34416699...</td>\n",
       "    </tr>\n",
       "    <tr>\n",
       "      <th>1</th>\n",
       "      <td>1.0</td>\n",
       "      <td>0.0</td>\n",
       "      <td>1.0</td>\n",
       "      <td>0.0</td>\n",
       "      <td>0.0</td>\n",
       "      <td>0.0</td>\n",
       "      <td>2.0</td>\n",
       "      <td>0.363478</td>\n",
       "      <td>0.353739</td>\n",
       "      <td>0.696087</td>\n",
       "      <td>0.248539</td>\n",
       "      <td>801.0</td>\n",
       "      <td>[1.0, 0.0, 1.0, 0.0, 0.0, 0.0, 2.0, 0.36347800...</td>\n",
       "    </tr>\n",
       "    <tr>\n",
       "      <th>2</th>\n",
       "      <td>1.0</td>\n",
       "      <td>0.0</td>\n",
       "      <td>1.0</td>\n",
       "      <td>0.0</td>\n",
       "      <td>1.0</td>\n",
       "      <td>1.0</td>\n",
       "      <td>1.0</td>\n",
       "      <td>0.196364</td>\n",
       "      <td>0.189405</td>\n",
       "      <td>0.437273</td>\n",
       "      <td>0.248309</td>\n",
       "      <td>1349.0</td>\n",
       "      <td>[1.0, 0.0, 1.0, 0.0, 1.0, 1.0, 1.0, 0.19636400...</td>\n",
       "    </tr>\n",
       "    <tr>\n",
       "      <th>3</th>\n",
       "      <td>1.0</td>\n",
       "      <td>0.0</td>\n",
       "      <td>1.0</td>\n",
       "      <td>0.0</td>\n",
       "      <td>2.0</td>\n",
       "      <td>1.0</td>\n",
       "      <td>1.0</td>\n",
       "      <td>0.200000</td>\n",
       "      <td>0.212122</td>\n",
       "      <td>0.590435</td>\n",
       "      <td>0.160296</td>\n",
       "      <td>1562.0</td>\n",
       "      <td>[1.0, 0.0, 1.0, 0.0, 2.0, 1.0, 1.0, 0.20000000...</td>\n",
       "    </tr>\n",
       "    <tr>\n",
       "      <th>4</th>\n",
       "      <td>1.0</td>\n",
       "      <td>0.0</td>\n",
       "      <td>1.0</td>\n",
       "      <td>0.0</td>\n",
       "      <td>3.0</td>\n",
       "      <td>1.0</td>\n",
       "      <td>1.0</td>\n",
       "      <td>0.226957</td>\n",
       "      <td>0.229270</td>\n",
       "      <td>0.436957</td>\n",
       "      <td>0.186900</td>\n",
       "      <td>1600.0</td>\n",
       "      <td>[1.0, 0.0, 1.0, 0.0, 3.0, 1.0, 1.0, 0.22695699...</td>\n",
       "    </tr>\n",
       "  </tbody>\n",
       "</table>\n",
       "</div>"
      ],
      "text/plain": [
       "   season   yr  mnth  holiday  weekday  workingday  weathersit      temp  \\\n",
       "0     1.0  0.0   1.0      0.0      6.0         0.0         2.0  0.344167   \n",
       "1     1.0  0.0   1.0      0.0      0.0         0.0         2.0  0.363478   \n",
       "2     1.0  0.0   1.0      0.0      1.0         1.0         1.0  0.196364   \n",
       "3     1.0  0.0   1.0      0.0      2.0         1.0         1.0  0.200000   \n",
       "4     1.0  0.0   1.0      0.0      3.0         1.0         1.0  0.226957   \n",
       "\n",
       "      atemp       hum  windspeed     cnt  \\\n",
       "0  0.363625  0.805833   0.160446   985.0   \n",
       "1  0.353739  0.696087   0.248539   801.0   \n",
       "2  0.189405  0.437273   0.248309  1349.0   \n",
       "3  0.212122  0.590435   0.160296  1562.0   \n",
       "4  0.229270  0.436957   0.186900  1600.0   \n",
       "\n",
       "                                            features  \n",
       "0  [1.0, 0.0, 1.0, 0.0, 6.0, 0.0, 2.0, 0.34416699...  \n",
       "1  [1.0, 0.0, 1.0, 0.0, 0.0, 0.0, 2.0, 0.36347800...  \n",
       "2  [1.0, 0.0, 1.0, 0.0, 1.0, 1.0, 1.0, 0.19636400...  \n",
       "3  [1.0, 0.0, 1.0, 0.0, 2.0, 1.0, 1.0, 0.20000000...  \n",
       "4  [1.0, 0.0, 1.0, 0.0, 3.0, 1.0, 1.0, 0.22695699...  "
      ]
     },
     "execution_count": 14,
     "metadata": {},
     "output_type": "execute_result"
    }
   ],
   "source": [
    "# Pass the input dataset to assembler and create a new dataframe with features column\t\t\n",
    "vectorDF=assembler.transform(dataset)\n",
    "\n",
    "vectorDF.toPandas().head()"
   ]
  },
  {
   "cell_type": "code",
   "execution_count": 16,
   "metadata": {},
   "outputs": [
    {
     "data": {
      "text/plain": [
       "11"
      ]
     },
     "execution_count": 16,
     "metadata": {},
     "output_type": "execute_result"
    }
   ],
   "source": [
    "len(featuresCols)"
   ]
  },
  {
   "cell_type": "code",
   "execution_count": 17,
   "metadata": {},
   "outputs": [],
   "source": [
    "(trainingData,testingData) =vectorDF.randomSplit(\n",
    "    [\n",
    "    0.8,\n",
    "    0.2\n",
    "    ]\n",
    ")"
   ]
  },
  {
   "cell_type": "code",
   "execution_count": 18,
   "metadata": {},
   "outputs": [],
   "source": [
    "from pyspark.ml.regression import LinearRegression\n",
    "\n",
    "lr=LinearRegression(\n",
    "        maxIter=100,\n",
    "        regParam=1.0,\n",
    "        elasticNetParam=0.8,\n",
    "        labelCol='cnt',\n",
    "        featuresCol='features'\n",
    ")"
   ]
  },
  {
   "cell_type": "code",
   "execution_count": 19,
   "metadata": {},
   "outputs": [],
   "source": [
    "model=lr.fit(trainingData)"
   ]
  },
  {
   "cell_type": "code",
   "execution_count": 20,
   "metadata": {},
   "outputs": [
    {
     "name": "stdout",
     "output_type": "stream",
     "text": [
      "('Training R2 Score=', 0.7968711382678648)\n",
      "('Training RMSE=', 872.307736447617)\n"
     ]
    }
   ],
   "source": [
    "\n",
    "# Evaluate \n",
    "print('Training R2 Score=',model.summary.r2)\n",
    "print('Training RMSE=',model.summary.rootMeanSquaredError)"
   ]
  },
  {
   "cell_type": "code",
   "execution_count": 21,
   "metadata": {},
   "outputs": [
    {
     "data": {
      "text/html": [
       "<div>\n",
       "<style scoped>\n",
       "    .dataframe tbody tr th:only-of-type {\n",
       "        vertical-align: middle;\n",
       "    }\n",
       "\n",
       "    .dataframe tbody tr th {\n",
       "        vertical-align: top;\n",
       "    }\n",
       "\n",
       "    .dataframe thead th {\n",
       "        text-align: right;\n",
       "    }\n",
       "</style>\n",
       "<table border=\"1\" class=\"dataframe\">\n",
       "  <thead>\n",
       "    <tr style=\"text-align: right;\">\n",
       "      <th></th>\n",
       "      <th>season</th>\n",
       "      <th>yr</th>\n",
       "      <th>mnth</th>\n",
       "      <th>holiday</th>\n",
       "      <th>weekday</th>\n",
       "      <th>workingday</th>\n",
       "      <th>weathersit</th>\n",
       "      <th>temp</th>\n",
       "      <th>atemp</th>\n",
       "      <th>hum</th>\n",
       "      <th>windspeed</th>\n",
       "      <th>cnt</th>\n",
       "      <th>features</th>\n",
       "      <th>prediction</th>\n",
       "    </tr>\n",
       "  </thead>\n",
       "  <tbody>\n",
       "    <tr>\n",
       "      <th>0</th>\n",
       "      <td>1.0</td>\n",
       "      <td>0.0</td>\n",
       "      <td>1.0</td>\n",
       "      <td>0.0</td>\n",
       "      <td>0.0</td>\n",
       "      <td>0.0</td>\n",
       "      <td>1.0</td>\n",
       "      <td>0.096522</td>\n",
       "      <td>0.098839</td>\n",
       "      <td>0.436522</td>\n",
       "      <td>0.246600</td>\n",
       "      <td>986.0</td>\n",
       "      <td>[1.0, 0.0, 1.0, 0.0, 0.0, 0.0, 1.0, 0.09652169...</td>\n",
       "      <td>829.240341</td>\n",
       "    </tr>\n",
       "    <tr>\n",
       "      <th>1</th>\n",
       "      <td>1.0</td>\n",
       "      <td>0.0</td>\n",
       "      <td>1.0</td>\n",
       "      <td>0.0</td>\n",
       "      <td>1.0</td>\n",
       "      <td>1.0</td>\n",
       "      <td>1.0</td>\n",
       "      <td>0.196364</td>\n",
       "      <td>0.189405</td>\n",
       "      <td>0.437273</td>\n",
       "      <td>0.248309</td>\n",
       "      <td>1349.0</td>\n",
       "      <td>[1.0, 0.0, 1.0, 0.0, 1.0, 1.0, 1.0, 0.19636400...</td>\n",
       "      <td>1569.864056</td>\n",
       "    </tr>\n",
       "    <tr>\n",
       "      <th>2</th>\n",
       "      <td>1.0</td>\n",
       "      <td>0.0</td>\n",
       "      <td>1.0</td>\n",
       "      <td>0.0</td>\n",
       "      <td>3.0</td>\n",
       "      <td>1.0</td>\n",
       "      <td>1.0</td>\n",
       "      <td>0.226957</td>\n",
       "      <td>0.229270</td>\n",
       "      <td>0.436957</td>\n",
       "      <td>0.186900</td>\n",
       "      <td>1600.0</td>\n",
       "      <td>[1.0, 0.0, 1.0, 0.0, 3.0, 1.0, 1.0, 0.22695699...</td>\n",
       "      <td>2078.042973</td>\n",
       "    </tr>\n",
       "    <tr>\n",
       "      <th>3</th>\n",
       "      <td>1.0</td>\n",
       "      <td>0.0</td>\n",
       "      <td>1.0</td>\n",
       "      <td>0.0</td>\n",
       "      <td>4.0</td>\n",
       "      <td>1.0</td>\n",
       "      <td>2.0</td>\n",
       "      <td>0.261667</td>\n",
       "      <td>0.255050</td>\n",
       "      <td>0.538333</td>\n",
       "      <td>0.195904</td>\n",
       "      <td>1927.0</td>\n",
       "      <td>[1.0, 0.0, 1.0, 0.0, 4.0, 1.0, 2.0, 0.26166701...</td>\n",
       "      <td>1544.581527</td>\n",
       "    </tr>\n",
       "    <tr>\n",
       "      <th>4</th>\n",
       "      <td>1.0</td>\n",
       "      <td>0.0</td>\n",
       "      <td>1.0</td>\n",
       "      <td>0.0</td>\n",
       "      <td>5.0</td>\n",
       "      <td>1.0</td>\n",
       "      <td>1.0</td>\n",
       "      <td>0.160870</td>\n",
       "      <td>0.188413</td>\n",
       "      <td>0.537826</td>\n",
       "      <td>0.126548</td>\n",
       "      <td>1421.0</td>\n",
       "      <td>[1.0, 0.0, 1.0, 0.0, 5.0, 1.0, 1.0, 0.16087000...</td>\n",
       "      <td>1985.990701</td>\n",
       "    </tr>\n",
       "  </tbody>\n",
       "</table>\n",
       "</div>"
      ],
      "text/plain": [
       "   season   yr  mnth  holiday  weekday  workingday  weathersit      temp  \\\n",
       "0     1.0  0.0   1.0      0.0      0.0         0.0         1.0  0.096522   \n",
       "1     1.0  0.0   1.0      0.0      1.0         1.0         1.0  0.196364   \n",
       "2     1.0  0.0   1.0      0.0      3.0         1.0         1.0  0.226957   \n",
       "3     1.0  0.0   1.0      0.0      4.0         1.0         2.0  0.261667   \n",
       "4     1.0  0.0   1.0      0.0      5.0         1.0         1.0  0.160870   \n",
       "\n",
       "      atemp       hum  windspeed     cnt  \\\n",
       "0  0.098839  0.436522   0.246600   986.0   \n",
       "1  0.189405  0.437273   0.248309  1349.0   \n",
       "2  0.229270  0.436957   0.186900  1600.0   \n",
       "3  0.255050  0.538333   0.195904  1927.0   \n",
       "4  0.188413  0.537826   0.126548  1421.0   \n",
       "\n",
       "                                            features   prediction  \n",
       "0  [1.0, 0.0, 1.0, 0.0, 0.0, 0.0, 1.0, 0.09652169...   829.240341  \n",
       "1  [1.0, 0.0, 1.0, 0.0, 1.0, 1.0, 1.0, 0.19636400...  1569.864056  \n",
       "2  [1.0, 0.0, 1.0, 0.0, 3.0, 1.0, 1.0, 0.22695699...  2078.042973  \n",
       "3  [1.0, 0.0, 1.0, 0.0, 4.0, 1.0, 2.0, 0.26166701...  1544.581527  \n",
       "4  [1.0, 0.0, 1.0, 0.0, 5.0, 1.0, 1.0, 0.16087000...  1985.990701  "
      ]
     },
     "execution_count": 21,
     "metadata": {},
     "output_type": "execute_result"
    }
   ],
   "source": [
    "# We will use the model for prediction on our testData\n",
    "# To See bike rental results\n",
    "predictions=model.transform(testingData)\n",
    "predictions.toPandas().head()"
   ]
  },
  {
   "cell_type": "code",
   "execution_count": 24,
   "metadata": {},
   "outputs": [],
   "source": [
    "# Evaluate  using RegressionEvaluator how model performs on TestData\n",
    "from pyspark.ml.evaluation import RegressionEvaluator\n",
    "evaluator=RegressionEvaluator(\n",
    "    labelCol='cnt',\n",
    "    predictionCol='prediction',\n",
    "    metricName='r2'\n",
    ")\n"
   ]
  },
  {
   "cell_type": "code",
   "execution_count": 25,
   "metadata": {},
   "outputs": [
    {
     "name": "stdout",
     "output_type": "stream",
     "text": [
      "Test R2 score= 0.808322\n"
     ]
    }
   ],
   "source": [
    "r2=evaluator.evaluate(predictions)\n",
    "print('Test R2 score= %g' % r2)"
   ]
  },
  {
   "cell_type": "code",
   "execution_count": 26,
   "metadata": {},
   "outputs": [
    {
     "name": "stdout",
     "output_type": "stream",
     "text": [
      "('Test RMSE=', 0.8083217862774423)\n"
     ]
    }
   ],
   "source": [
    "rmse=evaluator.evaluate(predictions)\n",
    "print('Test RMSE=',rmse)"
   ]
  },
  {
   "cell_type": "code",
   "execution_count": 27,
   "metadata": {},
   "outputs": [],
   "source": [
    "predictionPandas=predictions.toPandas()"
   ]
  },
  {
   "cell_type": "code",
   "execution_count": 94,
   "metadata": {},
   "outputs": [
    {
     "data": {
      "image/png": "[encoded data removed]",
      "text/plain": [
       "<matplotlib.figure.Figure at 0x7f17e6ce8210>"
      ]
     },
     "metadata": {},
     "output_type": "display_data"
    }
   ],
   "source": [
    "plt.figure(figsize=(15,6))\n",
    "plt.plot(predictionPandas['cnt'],label='Actual')\n",
    "plt.plot(predictionPandas['prediction'],label='Predicted')\n",
    "\n",
    "plt.ylabel('Ride Count')\n",
    "plt.legend()\n",
    "plt.show()\n"
   ]
  },
  {
   "cell_type": "code",
   "execution_count": 28,
   "metadata": {},
   "outputs": [],
   "source": [
    "from pyspark.ml.feature  import PCA\n",
    "\n",
    "pca=PCA(\n",
    "k=8, # 8 most important features\n",
    "inputCol='features', \n",
    "outputCol='pcaFeatures'\n",
    ")\n"
   ]
  },
  {
   "cell_type": "code",
   "execution_count": 29,
   "metadata": {},
   "outputs": [],
   "source": [
    "# perform dimensionality reduction on our training data\n",
    "pcaTransformer=pca.fit(vectorDF)"
   ]
  },
  {
   "cell_type": "code",
   "execution_count": 31,
   "metadata": {},
   "outputs": [
    {
     "data": {
      "text/html": [
       "<div>\n",
       "<style scoped>\n",
       "    .dataframe tbody tr th:only-of-type {\n",
       "        vertical-align: middle;\n",
       "    }\n",
       "\n",
       "    .dataframe tbody tr th {\n",
       "        vertical-align: top;\n",
       "    }\n",
       "\n",
       "    .dataframe thead th {\n",
       "        text-align: right;\n",
       "    }\n",
       "</style>\n",
       "<table border=\"1\" class=\"dataframe\">\n",
       "  <thead>\n",
       "    <tr style=\"text-align: right;\">\n",
       "      <th></th>\n",
       "      <th>pcaFeatures</th>\n",
       "    </tr>\n",
       "  </thead>\n",
       "  <tbody>\n",
       "    <tr>\n",
       "      <th>0</th>\n",
       "      <td>[-1.299434105121149, -6.0002957882529495, 0.38...</td>\n",
       "    </tr>\n",
       "    <tr>\n",
       "      <th>1</th>\n",
       "      <td>[-1.256074046605141, -0.001809060927389727, 0....</td>\n",
       "    </tr>\n",
       "    <tr>\n",
       "      <th>2</th>\n",
       "      <td>[-1.2498374389125777, -1.0026992468169056, 0.5...</td>\n",
       "    </tr>\n",
       "    <tr>\n",
       "      <th>3</th>\n",
       "      <td>[-1.2589193782130974, -2.0018604800043343, 0.5...</td>\n",
       "    </tr>\n",
       "    <tr>\n",
       "      <th>4</th>\n",
       "      <td>[-1.2649515945734322, -3.0022673722336375, 0.5...</td>\n",
       "    </tr>\n",
       "  </tbody>\n",
       "</table>\n",
       "</div>"
      ],
      "text/plain": [
       "                                         pcaFeatures\n",
       "0  [-1.299434105121149, -6.0002957882529495, 0.38...\n",
       "1  [-1.256074046605141, -0.001809060927389727, 0....\n",
       "2  [-1.2498374389125777, -1.0026992468169056, 0.5...\n",
       "3  [-1.2589193782130974, -2.0018604800043343, 0.5...\n",
       "4  [-1.2649515945734322, -3.0022673722336375, 0.5..."
      ]
     },
     "execution_count": 31,
     "metadata": {},
     "output_type": "execute_result"
    }
   ],
   "source": [
    "# Examing principal components that were generated using PCA Estimator\n",
    "# They are available in pcaFeatures of the dataframe\n",
    "pcaFeatureData=pcaTransformer.transform(vectorDF).select('pcaFeatures')\n",
    "pcaFeatureData.toPandas().head()"
   ]
  },
  {
   "cell_type": "code",
   "execution_count": 32,
   "metadata": {},
   "outputs": [
    {
     "data": {
      "text/plain": [
       "DenseVector([-1.2994, -6.0003, 0.3846, -2.024, 0.458, -0.4848, 0.569, -0.0731])"
      ]
     },
     "execution_count": 32,
     "metadata": {},
     "output_type": "execute_result"
    }
   ],
   "source": [
    "pcaFeatureData.toPandas()['pcaFeatures'][0]"
   ]
  },
  {
   "cell_type": "code",
   "execution_count": 33,
   "metadata": {},
   "outputs": [
    {
     "data": {
      "text/plain": [
       "DenseVector([0.7093, 0.2227, 0.0201, 0.0171, 0.0137, 0.0119, 0.0028, 0.0014])"
      ]
     },
     "execution_count": 33,
     "metadata": {},
     "output_type": "execute_result"
    }
   ],
   "source": [
    "pcaTransformer.explainedVariance"
   ]
  },
  {
   "cell_type": "code",
   "execution_count": 36,
   "metadata": {},
   "outputs": [
    {
     "data": {
      "image/png": "[encoded data removed]",
      "text/plain": [
       "<matplotlib.figure.Figure at 0x7fcd962a4490>"
      ]
     },
     "metadata": {},
     "output_type": "display_data"
    }
   ],
   "source": [
    "import matplotlib.pyplot as plt\n",
    "plt.figure(figsize=(15,6))\n",
    "plt.plot(pcaTransformer.explainedVariance)\n",
    "plt.xlabel('Dimension')\n",
    "plt.ylabel('Explain Variance')\n",
    "plt.show()\n"
   ]
  },
  {
   "cell_type": "code",
   "execution_count": 38,
   "metadata": {},
   "outputs": [],
   "source": [
    "# There is a sharp drop-off in the importance of the features\n",
    "# so these features are the ones that we want to use perform regression\n",
    "# Which are these features?\n",
    "# When we perform PCA ,it is like shifting the X-axis on the original feauture columns\n",
    "# so that we can capture Maximum Variance in the underlying data\n",
    "# Principal components by themselves do not have any feature columns associated with themselves\n",
    "# We perform a join operation between the principal components and our original data which # contains actual bike rental counts \n",
    "# add a new 'row_index column' to each dataframe that will serve as ID field\n",
    "# used to serve to join 2 tables,'PCA feature data' and 'vector data frame' \n",
    "# Special library: monotonically_increasing_id\n",
    "\n",
    "from pyspark.sql.functions import monotonically_increasing_id\n",
    "pcaFeatureData=pcaFeatureData.withColumn('row_index',monotonically_increasing_id())\n",
    "vectorDF=vectorDF.withColumn('row_index',monotonically_increasing_id())"
   ]
  },
  {
   "cell_type": "code",
   "execution_count": 43,
   "metadata": {},
   "outputs": [
    {
     "data": {
      "text/html": [
       "<div>\n",
       "<style scoped>\n",
       "    .dataframe tbody tr th:only-of-type {\n",
       "        vertical-align: middle;\n",
       "    }\n",
       "\n",
       "    .dataframe tbody tr th {\n",
       "        vertical-align: top;\n",
       "    }\n",
       "\n",
       "    .dataframe thead th {\n",
       "        text-align: right;\n",
       "    }\n",
       "</style>\n",
       "<table border=\"1\" class=\"dataframe\">\n",
       "  <thead>\n",
       "    <tr style=\"text-align: right;\">\n",
       "      <th></th>\n",
       "      <th>cnt</th>\n",
       "      <th>pcaFeatures</th>\n",
       "    </tr>\n",
       "  </thead>\n",
       "  <tbody>\n",
       "    <tr>\n",
       "      <th>0</th>\n",
       "      <td>985.0</td>\n",
       "      <td>[-1.299434105121149, -6.0002957882529495, 0.38...</td>\n",
       "    </tr>\n",
       "    <tr>\n",
       "      <th>1</th>\n",
       "      <td>801.0</td>\n",
       "      <td>[-1.256074046605141, -0.001809060927389727, 0....</td>\n",
       "    </tr>\n",
       "    <tr>\n",
       "      <th>2</th>\n",
       "      <td>1349.0</td>\n",
       "      <td>[-1.2498374389125777, -1.0026992468169056, 0.5...</td>\n",
       "    </tr>\n",
       "    <tr>\n",
       "      <th>3</th>\n",
       "      <td>1562.0</td>\n",
       "      <td>[-1.2589193782130974, -2.0018604800043343, 0.5...</td>\n",
       "    </tr>\n",
       "    <tr>\n",
       "      <th>4</th>\n",
       "      <td>1600.0</td>\n",
       "      <td>[-1.2649515945734322, -3.0022673722336375, 0.5...</td>\n",
       "    </tr>\n",
       "  </tbody>\n",
       "</table>\n",
       "</div>"
      ],
      "text/plain": [
       "      cnt                                        pcaFeatures\n",
       "0   985.0  [-1.299434105121149, -6.0002957882529495, 0.38...\n",
       "1   801.0  [-1.256074046605141, -0.001809060927389727, 0....\n",
       "2  1349.0  [-1.2498374389125777, -1.0026992468169056, 0.5...\n",
       "3  1562.0  [-1.2589193782130974, -2.0018604800043343, 0.5...\n",
       "4  1600.0  [-1.2649515945734322, -3.0022673722336375, 0.5..."
      ]
     },
     "execution_count": 43,
     "metadata": {},
     "output_type": "execute_result"
    }
   ],
   "source": [
    "# Form a inner join operation on the two DataFrames and extract the columns we are interested\n",
    "# cnt and pcaFeatures\n",
    "# cnt fields is the label for our regression\n",
    "# pcaFeatures form the features of our trainingData\n",
    "\n",
    "transformedData = pcaFeatureData.join(vectorDF,on=['row_index']).\\\n",
    "                  sort('row_index'). \\\n",
    "                  select('cnt','pcaFeatures')\n",
    "        \n",
    "transformedData.toPandas().head()        "
   ]
  },
  {
   "cell_type": "code",
   "execution_count": 48,
   "metadata": {},
   "outputs": [],
   "source": [
    "# split dataset 80% traiing, 20% test data and\n",
    "(pcaTrainingData,pcaTestData)=transformedData.randomSplit([0.8,0.2])"
   ]
  },
  {
   "cell_type": "code",
   "execution_count": 46,
   "metadata": {},
   "outputs": [],
   "source": [
    "# Setup linear regression estimator\n",
    "# pass 8-principalcomponents that we extracted from the underlying data as features\n",
    "\n",
    "pcalr=LinearRegression(\n",
    "maxIter=100,\n",
    "regParam=1.0,\n",
    "elasticNetParam=0.8,\n",
    "labelCol='cnt',\n",
    "featuresCol='pcaFeatures'\n",
    ")\n"
   ]
  },
  {
   "cell_type": "code",
   "execution_count": 49,
   "metadata": {},
   "outputs": [],
   "source": [
    "# train the regressionmodel on training data set\n",
    "pcaModel=pcalr.fit(pcaTrainingData)"
   ]
  },
  {
   "cell_type": "code",
   "execution_count": 50,
   "metadata": {},
   "outputs": [
    {
     "name": "stdout",
     "output_type": "stream",
     "text": [
      "('Training R2 Score= ', 0.7914308499148516)\n",
      "('Training RMSE = ', 871.0575948947885)\n"
     ]
    }
   ],
   "source": [
    "# Evaluate using r2 and RMSE\n",
    "print('Training R2 Score= ', pcaModel.summary.r2)\n",
    "print('Training RMSE = ',pcaModel.summary.rootMeanSquaredError)"
   ]
  },
  {
   "cell_type": "code",
   "execution_count": 52,
   "metadata": {},
   "outputs": [
    {
     "data": {
      "text/html": [
       "<div>\n",
       "<style scoped>\n",
       "    .dataframe tbody tr th:only-of-type {\n",
       "        vertical-align: middle;\n",
       "    }\n",
       "\n",
       "    .dataframe tbody tr th {\n",
       "        vertical-align: top;\n",
       "    }\n",
       "\n",
       "    .dataframe thead th {\n",
       "        text-align: right;\n",
       "    }\n",
       "</style>\n",
       "<table border=\"1\" class=\"dataframe\">\n",
       "  <thead>\n",
       "    <tr style=\"text-align: right;\">\n",
       "      <th></th>\n",
       "      <th>cnt</th>\n",
       "      <th>pcaFeatures</th>\n",
       "      <th>prediction</th>\n",
       "    </tr>\n",
       "  </thead>\n",
       "  <tbody>\n",
       "    <tr>\n",
       "      <th>0</th>\n",
       "      <td>801.0</td>\n",
       "      <td>[-1.256074046605141, -0.001809060927389727, 0....</td>\n",
       "      <td>1401.532192</td>\n",
       "    </tr>\n",
       "    <tr>\n",
       "      <th>1</th>\n",
       "      <td>1606.0</td>\n",
       "      <td>[-1.272914796510812, -4.00172387068543, 0.5902...</td>\n",
       "      <td>1893.694601</td>\n",
       "    </tr>\n",
       "    <tr>\n",
       "      <th>2</th>\n",
       "      <td>1248.0</td>\n",
       "      <td>[-1.2941105474184946, -6.0016147215030395, 0.3...</td>\n",
       "      <td>1201.941680</td>\n",
       "    </tr>\n",
       "    <tr>\n",
       "      <th>3</th>\n",
       "      <td>683.0</td>\n",
       "      <td>[-1.2684139691016256, -2.0097806901799657, 0.3...</td>\n",
       "      <td>1088.801944</td>\n",
       "    </tr>\n",
       "    <tr>\n",
       "      <th>4</th>\n",
       "      <td>1000.0</td>\n",
       "      <td>[-1.258514927038901, -0.993819832623761, 0.301...</td>\n",
       "      <td>-44.188691</td>\n",
       "    </tr>\n",
       "  </tbody>\n",
       "</table>\n",
       "</div>"
      ],
      "text/plain": [
       "      cnt                                        pcaFeatures   prediction\n",
       "0   801.0  [-1.256074046605141, -0.001809060927389727, 0....  1401.532192\n",
       "1  1606.0  [-1.272914796510812, -4.00172387068543, 0.5902...  1893.694601\n",
       "2  1248.0  [-1.2941105474184946, -6.0016147215030395, 0.3...  1201.941680\n",
       "3   683.0  [-1.2684139691016256, -2.0097806901799657, 0.3...  1088.801944\n",
       "4  1000.0  [-1.258514927038901, -0.993819832623761, 0.301...   -44.188691"
      ]
     },
     "execution_count": 52,
     "metadata": {},
     "output_type": "execute_result"
    }
   ],
   "source": [
    "# When we use the principal components our model does not perform as as well  on the training data\n",
    "#as before\n",
    "# Apply the regression model that has been trained on principal components to our test data\n",
    "# which is also represented in the form of principalcomponents\n",
    "\n",
    "pcaPredictions=pcaModel.transform(pcaTestData)\n",
    "pcaPredictions.toPandas().head()"
   ]
  },
  {
   "cell_type": "code",
   "execution_count": 53,
   "metadata": {},
   "outputs": [],
   "source": [
    "# Use RegressionEvaluator to check how well our model performs on test data\n",
    "evaluator=RegressionEvaluator(\n",
    "    labelCol='cnt',\n",
    "    predictionCol='prediction',\n",
    "    metricName='r2'\n",
    ")"
   ]
  },
  {
   "cell_type": "code",
   "execution_count": 61,
   "metadata": {},
   "outputs": [
    {
     "name": "stdout",
     "output_type": "stream",
     "text": [
      "Test R2 score = 950.638\n"
     ]
    }
   ],
   "source": [
    "rsquare=evaluator.evaluate(pcaPredictions)\n",
    "print(\"Test RMSE = %g\" % rsquare)\n"
   ]
  },
  {
   "cell_type": "code",
   "execution_count": 60,
   "metadata": {},
   "outputs": [],
   "source": [
    "# Use RegressionEvaluator to check how well our model performs on test data\n",
    "evaluator=RegressionEvaluator(\n",
    "    labelCol='cnt',\n",
    "    predictionCol='prediction',\n",
    "    metricName='rmse'\n",
    ")"
   ]
  },
  {
   "cell_type": "code",
   "execution_count": 62,
   "metadata": {},
   "outputs": [
    {
     "name": "stdout",
     "output_type": "stream",
     "text": [
      "Test R2 score = 950.638\n"
     ]
    }
   ],
   "source": [
    "rmse=evaluator.evaluate(pcaPredictions)\n",
    "print(\"Test R2 score = %g\" % rmse)\n"
   ]
  },
  {
   "cell_type": "code",
   "execution_count": null,
   "metadata": {},
   "outputs": [],
   "source": []
  }
 ],
 "metadata": {
  "kernelspec": {
   "display_name": "PySpark",
   "language": "python",
   "name": "pyspark"
  },
  "language_info": {
   "codemirror_mode": {
    "name": "ipython",
    "version": 2
   },
   "file_extension": ".py",
   "mimetype": "text/x-python",
   "name": "python",
   "nbconvert_exporter": "python",
   "pygments_lexer": "ipython2",
   "version": "2.7.14"
  }
 },
 "nbformat": 4,
 "nbformat_minor": 2
}